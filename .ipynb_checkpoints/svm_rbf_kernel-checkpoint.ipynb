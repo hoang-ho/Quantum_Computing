{
 "cells": [
  {
   "cell_type": "markdown",
   "metadata": {},
   "source": [
    "##  _*SVM with a classical RBF kernel*_\n",
    "\n",
    "We have shown here an SVM_QKernel notebook with the classification problem solved using a quatum algorithm. By comparison this shows the problem solved classically.\n",
    "\n",
    "**This notebook shows the SVM implementation based on the classical RBF kernel.**"
   ]
  },
  {
   "cell_type": "code",
   "execution_count": 1,
   "metadata": {},
   "outputs": [],
   "source": [
    "import os\n",
    "import sys\n",
    "from datasets import *\n",
    "from qiskit_acqua.svm.data_preprocess import *\n",
    "from qiskit_acqua.input import get_input_instance\n",
    "from qiskit_acqua import run_algorithm"
   ]
  },
  {
   "cell_type": "markdown",
   "metadata": {},
   "source": [
    "First we prepare the dataset, which is used for training, testing and the finally prediction.\n",
    "\n",
    "*Note: You can easily switch to a different dataset, such as the Breast Cancer dataset, by replacing 'ad_hoc_data' to 'Breast_cancer' below.*"
   ]
  },
  {
   "cell_type": "code",
   "execution_count": 2,
   "metadata": {},
   "outputs": [
    {
     "data": {
      "image/png": "[encoded data removed]",
      "text/plain": [
       "<matplotlib.figure.Figure at 0x10f08c828>"
      ]
     },
     "metadata": {},
     "output_type": "display_data"
    },
    {
     "data": {
      "image/png": "[encoded data removed]",
      "text/plain": [
       "<matplotlib.figure.Figure at 0x10f33d898>"
      ]
     },
     "metadata": {},
     "output_type": "display_data"
    }
   ],
   "source": [
    "sample_Total, training_input, test_input, class_labels = ad_hoc_data(training_size=20, test_size=10, n=2, gap=0.3, PLOT_DATA=True)\n",
    "# n is the dimension of each data point\n",
    "total_array, label_to_labelclass = get_points(test_input, class_labels)"
   ]
  },
  {
   "cell_type": "markdown",
   "metadata": {},
   "source": [
    "With the dataset ready we initialize the necessary inputs for the algorithm:\n",
    "- the input dictionary (params) \n",
    "- the input object containing the dataset info (algo_input)."
   ]
  },
  {
   "cell_type": "code",
   "execution_count": 3,
   "metadata": {},
   "outputs": [],
   "source": [
    "params = {\n",
    "    'problem': {'name': 'svm_classification'},\n",
    "    'algorithm': {\n",
    "        'name': 'SVM_RBF_Kernel',\n",
    "        'print_info': True\n",
    "    }\n",
    "}\n",
    "\n",
    "algo_input = get_input_instance('SVMInput')\n",
    "algo_input.training_dataset  = training_input\n",
    "algo_input.test_dataset = test_input\n",
    "algo_input.datapoints = total_array"
   ]
  },
  {
   "cell_type": "markdown",
   "metadata": {},
   "source": [
    "With everything setup, we can now run the algorithm.\n",
    "\n",
    "For the testing, the result includes the details and the success ratio.\n",
    "\n",
    "For the prediction, the result includes the predicted labels.  "
   ]
  },
  {
   "cell_type": "code",
   "execution_count": 4,
   "metadata": {},
   "outputs": [
    {
     "name": "stdout",
     "output_type": "stream",
     "text": [
      "\n",
      "=============================================\n",
      "classifying [1.25663706 5.84336234]\n",
      "Label should be  A\n",
      "Predicted label is  A\n",
      "CORRECT\n",
      "\n",
      "=============================================\n",
      "classifying [1.50796447 2.19911486]\n",
      "Label should be  A\n",
      "Predicted label is  B\n",
      "INCORRECT\n",
      "\n",
      "=============================================\n",
      "classifying [3.64424748 3.76991118]\n",
      "Label should be  A\n",
      "Predicted label is  A\n",
      "CORRECT\n",
      "\n",
      "=============================================\n",
      "classifying [6.22035345 0.43982297]\n",
      "Label should be  A\n",
      "Predicted label is  B\n",
      "INCORRECT\n",
      "\n",
      "=============================================\n",
      "classifying [1.19380521 3.26725636]\n",
      "Label should be  A\n",
      "Predicted label is  B\n",
      "INCORRECT\n",
      "\n",
      "=============================================\n",
      "classifying [2.32477856 2.63893783]\n",
      "Label should be  A\n",
      "Predicted label is  B\n",
      "INCORRECT\n",
      "\n",
      "=============================================\n",
      "classifying [1.82212374 1.88495559]\n",
      "Label should be  A\n",
      "Predicted label is  B\n",
      "INCORRECT\n",
      "\n",
      "=============================================\n",
      "classifying [1.69646003 2.82743339]\n",
      "Label should be  A\n",
      "Predicted label is  B\n",
      "INCORRECT\n",
      "\n",
      "=============================================\n",
      "classifying [1.57079633 5.40353936]\n",
      "Label should be  A\n",
      "Predicted label is  A\n",
      "CORRECT\n",
      "\n",
      "=============================================\n",
      "classifying [4.08407045 3.39292007]\n",
      "Label should be  A\n",
      "Predicted label is  A\n",
      "CORRECT\n",
      "\n",
      "=============================================\n",
      "classifying [5.78053048 1.00530965]\n",
      "Label should be  B\n",
      "Predicted label is  B\n",
      "CORRECT\n",
      "\n",
      "=============================================\n",
      "classifying [5.02654825 0.25132741]\n",
      "Label should be  B\n",
      "Predicted label is  A\n",
      "INCORRECT\n",
      "\n",
      "=============================================\n",
      "classifying [2.45044227 4.08407045]\n",
      "Label should be  B\n",
      "Predicted label is  A\n",
      "INCORRECT\n",
      "\n",
      "=============================================\n",
      "classifying [5.65486678 3.45575192]\n",
      "Label should be  B\n",
      "Predicted label is  B\n",
      "CORRECT\n",
      "\n",
      "=============================================\n",
      "classifying [5.59203492 4.52389342]\n",
      "Label should be  B\n",
      "Predicted label is  B\n",
      "CORRECT\n",
      "\n",
      "=============================================\n",
      "classifying [4.77522083 3.58141563]\n",
      "Label should be  B\n",
      "Predicted label is  A\n",
      "INCORRECT\n",
      "\n",
      "=============================================\n",
      "classifying [1.94778745 3.95840674]\n",
      "Label should be  B\n",
      "Predicted label is  A\n",
      "INCORRECT\n",
      "\n",
      "=============================================\n",
      "classifying [0.87964594 2.19911486]\n",
      "Label should be  B\n",
      "Predicted label is  B\n",
      "CORRECT\n",
      "\n",
      "=============================================\n",
      "classifying [5.78053048 6.22035345]\n",
      "Label should be  B\n",
      "Predicted label is  B\n",
      "CORRECT\n",
      "\n",
      "=============================================\n",
      "classifying [3.33008821 5.96902604]\n",
      "Label should be  B\n",
      "Predicted label is  A\n",
      "INCORRECT\n",
      "Classification success for this set is 45.0 % \n",
      "\n",
      "kernel matrix during the training:\n"
     ]
    },
    {
     "data": {
      "image/png": "[encoded data removed]",
      "text/plain": [
       "<matplotlib.figure.Figure at 0x10f4b0898>"
      ]
     },
     "metadata": {},
     "output_type": "display_data"
    },
    {
     "name": "stdout",
     "output_type": "stream",
     "text": [
      "testing success ratio:  0.45\n",
      "predicted labels: ['A', 'B', 'A', 'B', 'B', 'B', 'B', 'B', 'A', 'A', 'B', 'A', 'A', 'B', 'B', 'A', 'A', 'B', 'B', 'A']\n"
     ]
    }
   ],
   "source": [
    "result = run_algorithm(params,algo_input)\n",
    "print(\"kernel matrix during the training:\")\n",
    "kernel_matrix = result['kernel_matrix_training']\n",
    "img = plt.imshow(np.asmatrix(kernel_matrix),interpolation='nearest',origin='upper',cmap='bone_r')\n",
    "plt.show()\n",
    "\n",
    "print(\"testing success ratio: \", result['test_success_ratio'])\n",
    "print(\"predicted labels:\", result['predicted_labels'])"
   ]
  },
  {
   "cell_type": "markdown",
   "metadata": {},
   "source": [
    "### The breast cancer dataset\n",
    "Now we run our algorithm with the real-world dataset: the breast cancer dataset"
   ]
  },
  {
   "cell_type": "code",
   "execution_count": 5,
   "metadata": {},
   "outputs": [
    {
     "data": {
      "image/png": "[encoded data removed]",
      "text/plain": [
       "<matplotlib.figure.Figure at 0x11033ee10>"
      ]
     },
     "metadata": {},
     "output_type": "display_data"
    }
   ],
   "source": [
    "sample_Total, training_input, test_input, class_labels = Breast_cancer(training_size=20, test_size=10, n=2, PLOT_DATA=True)\n",
    "# n=2 is the dimension of each data point"
   ]
  },
  {
   "cell_type": "code",
   "execution_count": 6,
   "metadata": {},
   "outputs": [
    {
     "name": "stdout",
     "output_type": "stream",
     "text": [
      "\n",
      "=============================================\n",
      "classifying [-0.19145523 -0.40049514]\n",
      "Label should be  A\n",
      "Predicted label is  A\n",
      "CORRECT\n",
      "\n",
      "=============================================\n",
      "classifying [ 0.00296749 -0.94935632]\n",
      "Label should be  A\n",
      "Predicted label is  A\n",
      "CORRECT\n",
      "\n",
      "=============================================\n",
      "classifying [-0.05159529 -0.58740841]\n",
      "Label should be  A\n",
      "Predicted label is  A\n",
      "CORRECT\n",
      "\n",
      "=============================================\n",
      "classifying [ 1. -1.]\n",
      "Label should be  A\n",
      "Predicted label is  A\n",
      "CORRECT\n",
      "\n",
      "=============================================\n",
      "classifying [-0.02042312  0.08955068]\n",
      "Label should be  A\n",
      "Predicted label is  B\n",
      "INCORRECT\n",
      "\n",
      "=============================================\n",
      "classifying [ 0.11392697 -0.88419484]\n",
      "Label should be  A\n",
      "Predicted label is  A\n",
      "CORRECT\n",
      "\n",
      "=============================================\n",
      "classifying [-0.37623563 -0.28188762]\n",
      "Label should be  A\n",
      "Predicted label is  B\n",
      "INCORRECT\n",
      "\n",
      "=============================================\n",
      "classifying [-0.39911714 -0.22268894]\n",
      "Label should be  A\n",
      "Predicted label is  B\n",
      "INCORRECT\n",
      "\n",
      "=============================================\n",
      "classifying [-0.23286086 -0.68622751]\n",
      "Label should be  A\n",
      "Predicted label is  A\n",
      "CORRECT\n",
      "\n",
      "=============================================\n",
      "classifying [-0.30860543 -0.65487001]\n",
      "Label should be  A\n",
      "Predicted label is  A\n",
      "CORRECT\n",
      "\n",
      "=============================================\n",
      "classifying [-0.85747047 -0.4786827 ]\n",
      "Label should be  B\n",
      "Predicted label is  B\n",
      "CORRECT\n",
      "\n",
      "=============================================\n",
      "classifying [-0.72689282 -0.57851403]\n",
      "Label should be  B\n",
      "Predicted label is  B\n",
      "CORRECT\n",
      "\n",
      "=============================================\n",
      "classifying [-0.61147372 -0.26889516]\n",
      "Label should be  B\n",
      "Predicted label is  B\n",
      "CORRECT\n",
      "\n",
      "=============================================\n",
      "classifying [-0.93636663 -0.28861265]\n",
      "Label should be  B\n",
      "Predicted label is  B\n",
      "CORRECT\n",
      "\n",
      "=============================================\n",
      "classifying [-0.72933008 -0.61483846]\n",
      "Label should be  B\n",
      "Predicted label is  B\n",
      "CORRECT\n",
      "\n",
      "=============================================\n",
      "classifying [-0.79927216 -0.2203199 ]\n",
      "Label should be  B\n",
      "Predicted label is  B\n",
      "CORRECT\n",
      "\n",
      "=============================================\n",
      "classifying [-0.89863812 -0.44994977]\n",
      "Label should be  B\n",
      "Predicted label is  B\n",
      "CORRECT\n",
      "\n",
      "=============================================\n",
      "classifying [-0.97648453 -0.42314792]\n",
      "Label should be  B\n",
      "Predicted label is  B\n",
      "CORRECT\n",
      "\n",
      "=============================================\n",
      "classifying [-0.84577403 -0.35824307]\n",
      "Label should be  B\n",
      "Predicted label is  B\n",
      "CORRECT\n",
      "\n",
      "=============================================\n",
      "classifying [-0.76424251 -0.43948113]\n",
      "Label should be  B\n",
      "Predicted label is  B\n",
      "CORRECT\n",
      "Classification success for this set is 85.0 % \n",
      "\n",
      "kernel matrix during the training:\n"
     ]
    },
    {
     "data": {
      "image/png": "[encoded data removed]",
      "text/plain": [
       "<matplotlib.figure.Figure at 0x1115783c8>"
      ]
     },
     "metadata": {},
     "output_type": "display_data"
    },
    {
     "name": "stdout",
     "output_type": "stream",
     "text": [
      "testing success ratio:  0.85\n",
      "predicted labels: ['A', 'A', 'A', 'A', 'A', 'A', 'A', 'A', 'A', 'A', 'A', 'A', 'A', 'A', 'A', 'A', 'A', 'A', 'A', 'A']\n"
     ]
    }
   ],
   "source": [
    "algo_input = get_input_instance('SVMInput')\n",
    "algo_input.training_dataset  = training_input\n",
    "algo_input.test_dataset = test_input\n",
    "algo_input.datapoints = total_array\n",
    "result = run_algorithm(params,algo_input)\n",
    "print(\"kernel matrix during the training:\")\n",
    "kernel_matrix = result['kernel_matrix_training']\n",
    "img = plt.imshow(np.asmatrix(kernel_matrix),interpolation='nearest',origin='upper',cmap='bone_r')\n",
    "plt.show()\n",
    "\n",
    "print(\"testing success ratio: \", result['test_success_ratio'])\n",
    "print(\"predicted labels:\", result['predicted_labels'])"
   ]
  }
 ],
 "metadata": {
  "kernelspec": {
   "display_name": "Python 3",
   "language": "python",
   "name": "python3"
  },
  "language_info": {
   "codemirror_mode": {
    "name": "ipython",
    "version": 3
   },
   "file_extension": ".py",
   "mimetype": "text/x-python",
   "name": "python",
   "nbconvert_exporter": "python",
   "pygments_lexer": "ipython3",
   "version": "3.6.5"
  }
 },
 "nbformat": 4,
 "nbformat_minor": 1
}
