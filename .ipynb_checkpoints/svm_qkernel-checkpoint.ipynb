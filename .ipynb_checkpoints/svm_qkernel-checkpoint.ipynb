{
 "cells": [
  {
   "cell_type": "markdown",
   "metadata": {},
   "source": [
    "## _*Quantum SVM (quantum kernel method)*_\n",
    "\n",
    "### Introduction\n",
    "\n",
    "Classification algorithms and methods for machine learning are essential for pattern recognition and data mining applications. Well known techniques such as support vector machines and neural networks have blossomed over the last two decades as a result of the spectacular advances in classical hardware computational capabilities and speed. This progress in computer power made it possible to apply techniques, that were theoretically developed towards the middle of the 20th century, on classification problems that were becoming increasingly challenging.\n",
    "\n",
    "A key concept in classification methods is that of a kernel. Data cannot typically be separated by a hyperplane in its original space. A common technique used to find such a hyperplane consists on applying a non-linear transformation function to the data. This function is called a feature map, as it transforms the raw features, or measurable properties, of the phenomenon or subject under study. Classifying in this new feature space -and, as a matter of fact, also in any other space, including the raw original one- is nothing more than seeing how close data points are to each other. This is the same as computing the inner product for each pair of data in the set. So, in fact we do not need to compute the non-linear feature map for each datum, but only the inner product of each pair of data points in the new feature space. This collection of inner products is called the kernel and it is perfectly possible to have feature maps that are hard to compute but whose kernels are not.\n",
    "\n",
    "In this notebook we provide an example of a classification problem that requires a feature map for which computing the kernel is not efficient classically -this means that the required computational resources are expected to scale exponentially with the size of the problem. We show how this can be solved in a quantum processor by a direct estimation of the kernel in the feature space. The method we used falls in the category of what is called supervised learning, consisting of a training phase (where the kernel is calculated and the support vectors obtained) and a test or classification phase (where new unlabelled data is classified according to the solution found in the training phase).\n",
    "\n",
    "For further information please see: [https://arxiv.org/pdf/1804.11326.pdf](https://arxiv.org/pdf/1804.11326.pdf)\n",
    "\n",
    "**This notebook shows the SVM implementation based on the quantum kernel.**"
   ]
  },
  {
   "cell_type": "code",
   "execution_count": 1,
   "metadata": {},
   "outputs": [],
   "source": [
    "import os\n",
    "import sys\n",
    "from datasets import *\n",
    "from qiskit_acqua.svm.data_preprocess import *\n",
    "from qiskit_acqua.input import get_input_instance\n",
    "from qiskit_acqua import run_algorithm"
   ]
  },
  {
   "cell_type": "markdown",
   "metadata": {},
   "source": [
    "First we prepare the dataset, which is used for training, testing and the finally prediction.\n",
    "\n",
    "*Note: You can easily switch to a different dataset, such as the Breast Cancer dataset, by replacing 'ad_hoc_data' to 'Breast_cancer' below.*"
   ]
  },
  {
   "cell_type": "code",
   "execution_count": 2,
   "metadata": {},
   "outputs": [
    {
     "data": {
      "image/png": "[encoded data removed]",
      "text/plain": [
       "<matplotlib.figure.Figure at 0x185879a28d0>"
      ]
     },
     "metadata": {},
     "output_type": "display_data"
    },
    {
     "data": {
      "image/png": "[encoded data removed]",
      "text/plain": [
       "<matplotlib.figure.Figure at 0x185804b7a58>"
      ]
     },
     "metadata": {},
     "output_type": "display_data"
    }
   ],
   "source": [
    "sample_Total, training_input, test_input, class_labels = ad_hoc_data(training_size=20, test_size=10, n=2, gap=0.3, PLOT_DATA=True)\n",
    "#n=2 is the dimension of each data point\n",
    "total_array, label_to_labelclass = get_points(test_input, class_labels)"
   ]
  },
  {
   "cell_type": "markdown",
   "metadata": {},
   "source": [
    "With the dataset ready we initialize the necessary inputs for the algorithm:\n",
    "- the input dictionary (params) \n",
    "- the input object containing the dataset info (algo_input)."
   ]
  },
  {
   "cell_type": "code",
   "execution_count": 3,
   "metadata": {},
   "outputs": [],
   "source": [
    "params = {\n",
    "    'problem': {'name': 'svm_classification'},\n",
    "    'backend': {'name': 'local_qasm_simulator', 'shots':1000},\n",
    "    'algorithm': {\n",
    "        'name': 'SVM_QKernel',\n",
    "        'print_info' : True\n",
    "    }\n",
    "}\n",
    "\n",
    "algo_input = get_input_instance('SVMInput')\n",
    "algo_input.training_dataset  = training_input\n",
    "algo_input.test_dataset = test_input\n",
    "algo_input.datapoints = total_array"
   ]
  },
  {
   "cell_type": "markdown",
   "metadata": {},
   "source": [
    "With everything setup, we can now run the algorithm.\n",
    "\n",
    "For the testing, the result includes the details and the success ratio.\n",
    "\n",
    "For the prediction, the result includes the predicted labels. "
   ]
  },
  {
   "cell_type": "code",
   "execution_count": 4,
   "metadata": {},
   "outputs": [
    {
     "name": "stderr",
     "output_type": "stream",
     "text": [
      "Got a 400 code response to https://quantumexperience.ng.bluemix.net/api/Network/QSVM/Groups/Quantum/Projects/Quantum%20ML/devices?access_token=DkOYRUTpRrrJnSk6pJVDpOHJdKdoFh6VIAFGj0QDrca33wbK0oA8MlrVBX42ehNt: {\"error\":{\"status\":400,\"message\":\"Generic error\",\"code\":\"GENERIC_ERROR\"}}\n",
      "Got a 400 code response to https://quantumexperience.ng.bluemix.net/api/Network/QSVM/Groups/Quantum/Projects/Quantum%20ML/devices?access_token=DkOYRUTpRrrJnSk6pJVDpOHJdKdoFh6VIAFGj0QDrca33wbK0oA8MlrVBX42ehNt: {\"error\":{\"status\":400,\"message\":\"Generic error\",\"code\":\"GENERIC_ERROR\"}}\n",
      "Got a 400 code response to https://quantumexperience.ng.bluemix.net/api/Network/QSVM/Groups/Quantum/Projects/Quantum%20ML/devices?access_token=DkOYRUTpRrrJnSk6pJVDpOHJdKdoFh6VIAFGj0QDrca33wbK0oA8MlrVBX42ehNt: {\"error\":{\"status\":400,\"message\":\"Generic error\",\"code\":\"GENERIC_ERROR\"}}\n",
      "Got a 400 code response to https://quantumexperience.ng.bluemix.net/api/Network/QSVM/Groups/Quantum/Projects/Quantum%20ML/devices?access_token=DkOYRUTpRrrJnSk6pJVDpOHJdKdoFh6VIAFGj0QDrca33wbK0oA8MlrVBX42ehNt: {\"error\":{\"status\":400,\"message\":\"Generic error\",\"code\":\"GENERIC_ERROR\"}}\n",
      "Got a 400 code response to https://quantumexperience.ng.bluemix.net/api/Network/QSVM/Groups/Quantum/Projects/Quantum%20ML/devices?access_token=DkOYRUTpRrrJnSk6pJVDpOHJdKdoFh6VIAFGj0QDrca33wbK0oA8MlrVBX42ehNt: {\"error\":{\"status\":400,\"message\":\"Generic error\",\"code\":\"GENERIC_ERROR\"}}\n"
     ]
    },
    {
     "name": "stdout",
     "output_type": "stream",
     "text": [
      "\n",
      "=============================================\n",
      "classifying [ 3.01592895  2.76460154]\n",
      "Label should be  A\n",
      "Predicted label is  A\n",
      "CORRECT\n",
      "\n",
      "=============================================\n",
      "classifying [ 6.22035345  4.96371639]\n",
      "Label should be  A\n",
      "Predicted label is  A\n",
      "CORRECT\n",
      "\n",
      "=============================================\n",
      "classifying [ 0.18849556  1.0681415 ]\n",
      "Label should be  A\n",
      "Predicted label is  A\n",
      "CORRECT\n",
      "\n",
      "=============================================\n",
      "classifying [ 1.88495559  6.22035345]\n",
      "Label should be  A\n",
      "Predicted label is  A\n",
      "CORRECT\n",
      "\n",
      "=============================================\n",
      "classifying [ 4.71238898  3.51858377]\n",
      "Label should be  A\n",
      "Predicted label is  A\n",
      "CORRECT\n",
      "\n",
      "=============================================\n",
      "classifying [ 3.0787608   4.33539786]\n",
      "Label should be  A\n",
      "Predicted label is  A\n",
      "CORRECT\n",
      "\n",
      "=============================================\n",
      "classifying [ 0.37699112  4.46106157]\n",
      "Label should be  A\n",
      "Predicted label is  A\n",
      "CORRECT\n",
      "\n",
      "=============================================\n",
      "classifying [ 5.96902604  2.38761042]\n",
      "Label should be  A\n",
      "Predicted label is  A\n",
      "CORRECT\n",
      "\n",
      "=============================================\n",
      "classifying [ 4.58672527  2.38761042]\n",
      "Label should be  A\n",
      "Predicted label is  A\n",
      "CORRECT\n",
      "\n",
      "=============================================\n",
      "classifying [ 5.90619419  4.77522083]\n",
      "Label should be  A\n",
      "Predicted label is  A\n",
      "CORRECT\n",
      "\n",
      "=============================================\n",
      "classifying [ 5.02654825  2.0106193 ]\n",
      "Label should be  B\n",
      "Predicted label is  B\n",
      "CORRECT\n",
      "\n",
      "=============================================\n",
      "classifying [ 1.0681415   5.71769863]\n",
      "Label should be  B\n",
      "Predicted label is  B\n",
      "CORRECT\n",
      "\n",
      "=============================================\n",
      "classifying [ 1.69646003  0.81681409]\n",
      "Label should be  B\n",
      "Predicted label is  B\n",
      "CORRECT\n",
      "\n",
      "=============================================\n",
      "classifying [ 5.96902604  6.03185789]\n",
      "Label should be  B\n",
      "Predicted label is  B\n",
      "CORRECT\n",
      "\n",
      "=============================================\n",
      "classifying [ 3.51858377  0.43982297]\n",
      "Label should be  B\n",
      "Predicted label is  B\n",
      "CORRECT\n",
      "\n",
      "=============================================\n",
      "classifying [ 0.43982297  2.70176968]\n",
      "Label should be  B\n",
      "Predicted label is  B\n",
      "CORRECT\n",
      "\n",
      "=============================================\n",
      "classifying [ 6.1575216   6.03185789]\n",
      "Label should be  B\n",
      "Predicted label is  B\n",
      "CORRECT\n",
      "\n",
      "=============================================\n",
      "classifying [ 3.33008821  0.81681409]\n",
      "Label should be  B\n",
      "Predicted label is  B\n",
      "CORRECT\n",
      "\n",
      "=============================================\n",
      "classifying [ 0.50265482  0.43982297]\n",
      "Label should be  B\n",
      "Predicted label is  B\n",
      "CORRECT\n",
      "\n",
      "=============================================\n",
      "classifying [ 2.07345115  5.0893801 ]\n",
      "Label should be  B\n",
      "Predicted label is  B\n",
      "CORRECT\n",
      "Classification success for this set is 100.0 % \n",
      "\n",
      "kernel matrix during the training:\n"
     ]
    },
    {
     "data": {
      "image/png": "[encoded data removed]",
      "text/plain": [
       "<matplotlib.figure.Figure at 0x185896cfb00>"
      ]
     },
     "metadata": {},
     "output_type": "display_data"
    },
    {
     "name": "stdout",
     "output_type": "stream",
     "text": [
      "testing success ratio:  1.0\n",
      "predicted labels: ['A', 'A', 'A', 'A', 'A', 'A', 'A', 'A', 'A', 'A', 'B', 'B', 'B', 'B', 'B', 'B', 'B', 'B', 'B', 'B']\n"
     ]
    }
   ],
   "source": [
    "result = run_algorithm(params,algo_input)\n",
    "#print(result)\n",
    "print(\"kernel matrix during the training:\")\n",
    "kernel_matrix = result['kernel_matrix_training']\n",
    "img = plt.imshow(np.asmatrix(kernel_matrix),interpolation='nearest',origin='upper',cmap='bone_r')\n",
    "plt.show()\n",
    "\n",
    "print(\"testing success ratio: \", result['test_success_ratio'])\n",
    "print(\"predicted labels:\", result['predicted_labels'])\n"
   ]
  },
  {
   "cell_type": "markdown",
   "metadata": {},
   "source": [
    "### The breast cancer dataset\n",
    "Now we run our algorithm with the real-world dataset: the breast cancer dataset"
   ]
  },
  {
   "cell_type": "code",
   "execution_count": 5,
   "metadata": {},
   "outputs": [
    {
     "data": {
      "image/png": "[encoded data removed]",
      "text/plain": [
       "<matplotlib.figure.Figure at 0x185879a2438>"
      ]
     },
     "metadata": {},
     "output_type": "display_data"
    }
   ],
   "source": [
    "sample_Total, training_input, test_input, class_labels = Breast_cancer(training_size=20, test_size=10, n=2, PLOT_DATA=True)\n",
    "# n =2 is the dimension of each data point"
   ]
  },
  {
   "cell_type": "code",
   "execution_count": null,
   "metadata": {},
   "outputs": [
    {
     "name": "stderr",
     "output_type": "stream",
     "text": [
      "Got a 400 code response to https://quantumexperience.ng.bluemix.net/api/Network/QSVM/Groups/Quantum/Projects/Quantum%20ML/devices?access_token=OxwkDdM5PZzlNzIBEisvKPDMVU3J66Fu8b8MBJ96QfixycJGpE3IYXxntAfb8epN: {\"error\":{\"status\":400,\"message\":\"Generic error\",\"code\":\"GENERIC_ERROR\"}}\n",
      "Got a 400 code response to https://quantumexperience.ng.bluemix.net/api/Network/QSVM/Groups/Quantum/Projects/Quantum%20ML/devices?access_token=OxwkDdM5PZzlNzIBEisvKPDMVU3J66Fu8b8MBJ96QfixycJGpE3IYXxntAfb8epN: {\"error\":{\"status\":400,\"message\":\"Generic error\",\"code\":\"GENERIC_ERROR\"}}\n",
      "Got a 400 code response to https://quantumexperience.ng.bluemix.net/api/Network/QSVM/Groups/Quantum/Projects/Quantum%20ML/devices?access_token=OxwkDdM5PZzlNzIBEisvKPDMVU3J66Fu8b8MBJ96QfixycJGpE3IYXxntAfb8epN: {\"error\":{\"status\":400,\"message\":\"Generic error\",\"code\":\"GENERIC_ERROR\"}}\n"
     ]
    }
   ],
   "source": [
    "algo_input = get_input_instance('SVMInput')\n",
    "algo_input.training_dataset  = training_input\n",
    "algo_input.test_dataset = test_input\n",
    "algo_input.datapoints = total_array\n",
    "result = run_algorithm(params,algo_input)\n",
    "#print(result)\n",
    "print(\"kernel matrix during the training:\")\n",
    "kernel_matrix = result['kernel_matrix_training']\n",
    "img = plt.imshow(np.asmatrix(kernel_matrix),interpolation='nearest',origin='upper',cmap='bone_r')\n",
    "plt.show()\n",
    "\n",
    "print(\"testing success ratio: \", result['test_success_ratio'])\n",
    "print(\"predicted labels:\", result['predicted_labels'])"
   ]
  }
 ],
 "metadata": {
  "kernelspec": {
   "display_name": "Python 3",
   "language": "python",
   "name": "python3"
  },
  "language_info": {
   "codemirror_mode": {
    "name": "ipython",
    "version": 3
   },
   "file_extension": ".py",
   "mimetype": "text/x-python",
   "name": "python",
   "nbconvert_exporter": "python",
   "pygments_lexer": "ipython3",
   "version": "3.6.5"
  }
 },
 "nbformat": 4,
 "nbformat_minor": 1
}
