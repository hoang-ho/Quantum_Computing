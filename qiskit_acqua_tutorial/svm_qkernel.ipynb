{
 "cells": [
  {
   "cell_type": "markdown",
   "metadata": {},
   "source": [
    "## _*Quantum SVM (quantum kernel method)*_\n",
    "\n",
    "### Introduction\n",
    "\n",
    "Classification algorithms and methods for machine learning are essential for pattern recognition and data mining applications. Well known techniques such as support vector machines and neural networks have blossomed over the last two decades as a result of the spectacular advances in classical hardware computational capabilities and speed. This progress in computer power made it possible to apply techniques, that were theoretically developed towards the middle of the 20th century, on classification problems that were becoming increasingly challenging.\n",
    "\n",
    "A key concept in classification methods is that of a kernel. Data cannot typically be separated by a hyperplane in its original space. A common technique used to find such a hyperplane consists on applying a non-linear transformation function to the data. This function is called a feature map, as it transforms the raw features, or measurable properties, of the phenomenon or subject under study. Classifying in this new feature space -and, as a matter of fact, also in any other space, including the raw original one- is nothing more than seeing how close data points are to each other. This is the same as computing the inner product for each pair of data in the set. So, in fact we do not need to compute the non-linear feature map for each datum, but only the inner product of each pair of data points in the new feature space. This collection of inner products is called the kernel and it is perfectly possible to have feature maps that are hard to compute but whose kernels are not.\n",
    "\n",
    "In this notebook we provide an example of a classification problem that requires a feature map for which computing the kernel is not efficient classically -this means that the required computational resources are expected to scale exponentially with the size of the problem. We show how this can be solved in a quantum processor by a direct estimation of the kernel in the feature space. The method we used falls in the category of what is called supervised learning, consisting of a training phase (where the kernel is calculated and the support vectors obtained) and a test or classification phase (where new unlabelled data is classified according to the solution found in the training phase).\n",
    "\n",
    "For further information please see: [https://arxiv.org/pdf/1804.11326.pdf](https://arxiv.org/pdf/1804.11326.pdf)\n",
    "\n",
    "**This notebook shows the SVM implementation based on the quantum kernel.**"
   ]
  },
  {
   "cell_type": "code",
   "execution_count": 1,
   "metadata": {},
   "outputs": [],
   "source": [
    "import os\n",
    "import sys\n",
    "from datasets import *\n",
    "from qiskit_acqua.svm.data_preprocess import *\n",
    "from qiskit_acqua.input import get_input_instance\n",
    "from qiskit_acqua import run_algorithm"
   ]
  },
  {
   "cell_type": "markdown",
   "metadata": {},
   "source": [
    "First we prepare the dataset, which is used for training, testing and the finally prediction.\n",
    "\n",
    "*Note: You can easily switch to a different dataset, such as the Breast Cancer dataset, by replacing 'ad_hoc_data' to 'Breast_cancer' below.*"
   ]
  },
  {
   "cell_type": "code",
   "execution_count": 2,
   "metadata": {},
   "outputs": [
    {
     "data": {
      "image/png": "[encoded data removed]",
      "text/plain": [
       "<matplotlib.figure.Figure at 0x1120720f0>"
      ]
     },
     "metadata": {},
     "output_type": "display_data"
    },
    {
     "data": {
      "image/png": "[encoded data removed]",
      "text/plain": [
       "<matplotlib.figure.Figure at 0x1123b69e8>"
      ]
     },
     "metadata": {},
     "output_type": "display_data"
    }
   ],
   "source": [
    "sample_Total, training_input, test_input, class_labels = ad_hoc_data(training_size=20, test_size=10, n=2, gap=0.3, PLOT_DATA=True)\n",
    "#n=2 is the dimension of each data point\n",
    "total_array, label_to_labelclass = get_points(test_input, class_labels)"
   ]
  },
  {
   "cell_type": "markdown",
   "metadata": {},
   "source": [
    "With the dataset ready we initialize the necessary inputs for the algorithm:\n",
    "- the input dictionary (params) \n",
    "- the input object containing the dataset info (algo_input)."
   ]
  },
  {
   "cell_type": "code",
   "execution_count": 3,
   "metadata": {},
   "outputs": [],
   "source": [
    "params = {\n",
    "    'problem': {'name': 'svm_classification'},\n",
    "    'backend': {'name': 'local_qasm_simulator', 'shots':1000},\n",
    "    'algorithm': {\n",
    "        'name': 'SVM_QKernel',\n",
    "        'print_info' : True\n",
    "    }\n",
    "}\n",
    "\n",
    "algo_input = get_input_instance('SVMInput')\n",
    "algo_input.training_dataset  = training_input\n",
    "algo_input.test_dataset = test_input\n",
    "algo_input.datapoints = total_array"
   ]
  },
  {
   "cell_type": "markdown",
   "metadata": {},
   "source": [
    "With everything setup, we can now run the algorithm.\n",
    "\n",
    "For the testing, the result includes the details and the success ratio.\n",
    "\n",
    "For the prediction, the result includes the predicted labels. "
   ]
  },
  {
   "cell_type": "code",
   "execution_count": 4,
   "metadata": {},
   "outputs": [
    {
     "name": "stdout",
     "output_type": "stream",
     "text": [
      "\n",
      "=============================================\n",
      "classifying [2.95309709 2.89026524]\n",
      "Label should be  A\n",
      "Predicted label is  A\n",
      "CORRECT\n",
      "\n",
      "=============================================\n",
      "classifying [3.70707933 0.25132741]\n",
      "Label should be  A\n",
      "Predicted label is  A\n",
      "CORRECT\n",
      "\n",
      "=============================================\n",
      "classifying [2.19911486 5.90619419]\n",
      "Label should be  A\n",
      "Predicted label is  A\n",
      "CORRECT\n",
      "\n",
      "=============================================\n",
      "classifying [1.25663706 1.31946891]\n",
      "Label should be  A\n",
      "Predicted label is  A\n",
      "CORRECT\n",
      "\n",
      "=============================================\n",
      "classifying [1.82212374 1.00530965]\n",
      "Label should be  A\n",
      "Predicted label is  A\n",
      "CORRECT\n",
      "\n",
      "=============================================\n",
      "classifying [0.25132741 2.63893783]\n",
      "Label should be  A\n",
      "Predicted label is  A\n",
      "CORRECT\n",
      "\n",
      "=============================================\n",
      "classifying [2.76460154 2.38761042]\n",
      "Label should be  A\n",
      "Predicted label is  A\n",
      "CORRECT\n",
      "\n",
      "=============================================\n",
      "classifying [2.45044227 0.31415927]\n",
      "Label should be  A\n",
      "Predicted label is  A\n",
      "CORRECT\n",
      "\n",
      "=============================================\n",
      "classifying [6.1575216  3.33008821]\n",
      "Label should be  A\n",
      "Predicted label is  A\n",
      "CORRECT\n",
      "\n",
      "=============================================\n",
      "classifying [0.50265482 4.33539786]\n",
      "Label should be  A\n",
      "Predicted label is  A\n",
      "CORRECT\n",
      "\n",
      "=============================================\n",
      "classifying [3.89557489 4.90088454]\n",
      "Label should be  B\n",
      "Predicted label is  B\n",
      "CORRECT\n",
      "\n",
      "=============================================\n",
      "classifying [3.26725636 0.31415927]\n",
      "Label should be  B\n",
      "Predicted label is  B\n",
      "CORRECT\n",
      "\n",
      "=============================================\n",
      "classifying [2.07345115 1.88495559]\n",
      "Label should be  B\n",
      "Predicted label is  B\n",
      "CORRECT\n",
      "\n",
      "=============================================\n",
      "classifying [0.06283185 0.37699112]\n",
      "Label should be  B\n",
      "Predicted label is  B\n",
      "CORRECT\n",
      "\n",
      "=============================================\n",
      "classifying [1.38230077 2.45044227]\n",
      "Label should be  B\n",
      "Predicted label is  B\n",
      "CORRECT\n",
      "\n",
      "=============================================\n",
      "classifying [0.81681409 3.33008821]\n",
      "Label should be  B\n",
      "Predicted label is  B\n",
      "CORRECT\n",
      "\n",
      "=============================================\n",
      "classifying [3.51858377 0.31415927]\n",
      "Label should be  B\n",
      "Predicted label is  B\n",
      "CORRECT\n",
      "\n",
      "=============================================\n",
      "classifying [1.25663706 2.63893783]\n",
      "Label should be  B\n",
      "Predicted label is  B\n",
      "CORRECT\n",
      "\n",
      "=============================================\n",
      "classifying [2.57610598 5.15221195]\n",
      "Label should be  B\n",
      "Predicted label is  B\n",
      "CORRECT\n",
      "\n",
      "=============================================\n",
      "classifying [5.65486678 4.64955713]\n",
      "Label should be  B\n",
      "Predicted label is  B\n",
      "CORRECT\n",
      "Classification success for this set is 100.0 % \n",
      "\n",
      "kernel matrix during the training:\n"
     ]
    },
    {
     "data": {
      "image/png": "[encoded data removed]",
      "text/plain": [
       "<matplotlib.figure.Figure at 0x1133384a8>"
      ]
     },
     "metadata": {},
     "output_type": "display_data"
    },
    {
     "name": "stdout",
     "output_type": "stream",
     "text": [
      "testing success ratio:  1.0\n",
      "predicted labels: ['A', 'A', 'A', 'A', 'A', 'A', 'A', 'A', 'A', 'A', 'B', 'B', 'B', 'B', 'B', 'B', 'B', 'B', 'B', 'B']\n"
     ]
    }
   ],
   "source": [
    "result = run_algorithm(params,algo_input)\n",
    "#print(result)\n",
    "print(\"kernel matrix during the training:\")\n",
    "kernel_matrix = result['kernel_matrix_training']\n",
    "img = plt.imshow(np.asmatrix(kernel_matrix),interpolation='nearest',origin='upper',cmap='bone_r')\n",
    "plt.show()\n",
    "\n",
    "print(\"testing success ratio: \", result['test_success_ratio'])\n",
    "print(\"predicted labels:\", result['predicted_labels'])\n"
   ]
  },
  {
   "cell_type": "markdown",
   "metadata": {},
   "source": [
    "### The breast cancer dataset\n",
    "Now we run our algorithm with the real-world dataset: the breast cancer dataset"
   ]
  },
  {
   "cell_type": "code",
   "execution_count": 5,
   "metadata": {},
   "outputs": [
    {
     "data": {
      "image/png": "[encoded data removed]",
      "text/plain": [
       "<matplotlib.figure.Figure at 0x114bb57b8>"
      ]
     },
     "metadata": {},
     "output_type": "display_data"
    }
   ],
   "source": [
    "sample_Total, training_input, test_input, class_labels = Breast_cancer(training_size=20, test_size=10, n=2, PLOT_DATA=True)\n",
    "# n =2 is the dimension of each data point"
   ]
  },
  {
   "cell_type": "code",
   "execution_count": 6,
   "metadata": {},
   "outputs": [
    {
     "name": "stdout",
     "output_type": "stream",
     "text": [
      "\n",
      "=============================================\n",
      "classifying [-0.19145523 -0.40049514]\n",
      "Label should be  A\n",
      "Predicted label is  A\n",
      "CORRECT\n",
      "\n",
      "=============================================\n",
      "classifying [ 0.00296749 -0.94935632]\n",
      "Label should be  A\n",
      "Predicted label is  A\n",
      "CORRECT\n",
      "\n",
      "=============================================\n",
      "classifying [-0.05159529 -0.58740841]\n",
      "Label should be  A\n",
      "Predicted label is  A\n",
      "CORRECT\n",
      "\n",
      "=============================================\n",
      "classifying [ 1. -1.]\n",
      "Label should be  A\n",
      "Predicted label is  A\n",
      "CORRECT\n",
      "\n",
      "=============================================\n",
      "classifying [-0.02042312  0.08955068]\n",
      "Label should be  A\n",
      "Predicted label is  A\n",
      "CORRECT\n",
      "\n",
      "=============================================\n",
      "classifying [ 0.11392697 -0.88419484]\n",
      "Label should be  A\n",
      "Predicted label is  A\n",
      "CORRECT\n",
      "\n",
      "=============================================\n",
      "classifying [-0.37623563 -0.28188762]\n",
      "Label should be  A\n",
      "Predicted label is  A\n",
      "CORRECT\n",
      "\n",
      "=============================================\n",
      "classifying [-0.39911714 -0.22268894]\n",
      "Label should be  A\n",
      "Predicted label is  B\n",
      "INCORRECT\n",
      "\n",
      "=============================================\n",
      "classifying [-0.23286086 -0.68622751]\n",
      "Label should be  A\n",
      "Predicted label is  A\n",
      "CORRECT\n",
      "\n",
      "=============================================\n",
      "classifying [-0.30860543 -0.65487001]\n",
      "Label should be  A\n",
      "Predicted label is  A\n",
      "CORRECT\n",
      "\n",
      "=============================================\n",
      "classifying [-0.85747047 -0.4786827 ]\n",
      "Label should be  B\n",
      "Predicted label is  B\n",
      "CORRECT\n",
      "\n",
      "=============================================\n",
      "classifying [-0.72689282 -0.57851403]\n",
      "Label should be  B\n",
      "Predicted label is  B\n",
      "CORRECT\n",
      "\n",
      "=============================================\n",
      "classifying [-0.61147372 -0.26889516]\n",
      "Label should be  B\n",
      "Predicted label is  A\n",
      "INCORRECT\n",
      "\n",
      "=============================================\n",
      "classifying [-0.93636663 -0.28861265]\n",
      "Label should be  B\n",
      "Predicted label is  B\n",
      "CORRECT\n",
      "\n",
      "=============================================\n",
      "classifying [-0.72933008 -0.61483846]\n",
      "Label should be  B\n",
      "Predicted label is  B\n",
      "CORRECT\n",
      "\n",
      "=============================================\n",
      "classifying [-0.79927216 -0.2203199 ]\n",
      "Label should be  B\n",
      "Predicted label is  B\n",
      "CORRECT\n",
      "\n",
      "=============================================\n",
      "classifying [-0.89863812 -0.44994977]\n",
      "Label should be  B\n",
      "Predicted label is  B\n",
      "CORRECT\n",
      "\n",
      "=============================================\n",
      "classifying [-0.97648453 -0.42314792]\n",
      "Label should be  B\n",
      "Predicted label is  B\n",
      "CORRECT\n",
      "\n",
      "=============================================\n",
      "classifying [-0.84577403 -0.35824307]\n",
      "Label should be  B\n",
      "Predicted label is  B\n",
      "CORRECT\n",
      "\n",
      "=============================================\n",
      "classifying [-0.76424251 -0.43948113]\n",
      "Label should be  B\n",
      "Predicted label is  B\n",
      "CORRECT\n",
      "Classification success for this set is 90.0 % \n",
      "\n",
      "kernel matrix during the training:\n"
     ]
    },
    {
     "data": {
      "image/png": "[encoded data removed]",
      "text/plain": [
       "<matplotlib.figure.Figure at 0x1123a8438>"
      ]
     },
     "metadata": {},
     "output_type": "display_data"
    },
    {
     "name": "stdout",
     "output_type": "stream",
     "text": [
      "testing success ratio:  0.9\n",
      "predicted labels: ['A', 'B', 'B', 'A', 'A', 'B', 'B', 'A', 'A', 'B', 'B', 'A', 'A', 'A', 'A', 'B', 'A', 'A', 'A', 'A']\n"
     ]
    }
   ],
   "source": [
    "algo_input = get_input_instance('SVMInput')\n",
    "algo_input.training_dataset  = training_input\n",
    "algo_input.test_dataset = test_input\n",
    "algo_input.datapoints = total_array\n",
    "result = run_algorithm(params,algo_input)\n",
    "#print(result)\n",
    "print(\"kernel matrix during the training:\")\n",
    "kernel_matrix = result['kernel_matrix_training']\n",
    "img = plt.imshow(np.asmatrix(kernel_matrix),interpolation='nearest',origin='upper',cmap='bone_r')\n",
    "plt.show()\n",
    "\n",
    "print(\"testing success ratio: \", result['test_success_ratio'])\n",
    "print(\"predicted labels:\", result['predicted_labels'])"
   ]
  }
 ],
 "metadata": {
  "kernelspec": {
   "display_name": "Python 3",
   "language": "python",
   "name": "python3"
  },
  "language_info": {
   "codemirror_mode": {
    "name": "ipython",
    "version": 3
   },
   "file_extension": ".py",
   "mimetype": "text/x-python",
   "name": "python",
   "nbconvert_exporter": "python",
   "pygments_lexer": "ipython3",
   "version": "3.6.5"
  }
 },
 "nbformat": 4,
 "nbformat_minor": 1
}
